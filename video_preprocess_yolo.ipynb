{
 "metadata": {
  "language_info": {
   "codemirror_mode": {
    "name": "ipython",
    "version": 3
   },
   "file_extension": ".py",
   "mimetype": "text/x-python",
   "name": "python",
   "nbconvert_exporter": "python",
   "pygments_lexer": "ipython3",
   "version": "3.7.2-final"
  },
  "orig_nbformat": 2,
  "kernelspec": {
   "name": "python3",
   "display_name": "Python 3",
   "language": "python"
  }
 },
 "nbformat": 4,
 "nbformat_minor": 2,
 "cells": [
  {
   "cell_type": "code",
   "execution_count": 6,
   "metadata": {},
   "outputs": [
    {
     "output_type": "stream",
     "name": "stdout",
     "text": [
      "Saved 0\n",
      "Done\n",
      "Saved 0\n",
      "Done\n"
     ]
    }
   ],
   "source": [
    "# split video into frames\n",
    "\n",
    "import os\n",
    "import cv2\n",
    "\n",
    "import numpy as np\n",
    "import pandas as pd\n",
    "import matplotlib.pyplot as plt\n",
    "\n",
    "def screengrab(fname, n=5):\n",
    "\n",
    "    fpath = f'labelImg/videos/{fname}.mov'\n",
    "    vidcap = cv2.VideoCapture(fpath)\n",
    "\n",
    "    i = 0\n",
    "\n",
    "    while True:\n",
    "\n",
    "        success, img = vidcap.read()\n",
    "\n",
    "        if not success:\n",
    "            break\n",
    "\n",
    "        if i % n == 0:\n",
    "\n",
    "            img = np.transpose(img, (1, 0, 2))\n",
    "            mn = min(img.shape[0], img.shape[1])\n",
    "            img = img[:mn, :mn, :]\n",
    "\n",
    "            cv2.imwrite(f\"labelImg/raw_images/{fname}_{i}.jpg\", img)\n",
    "        \n",
    "            if i % (n*100) == 0:\n",
    "                print(f'Saved {i}')\n",
    "\n",
    "        i += 1\n",
    "\n",
    "    print('Done')\n",
    "\n",
    "screengrab('data_video_7')\n",
    "screengrab('data_video_8')\n"
   ]
  },
  {
   "cell_type": "code",
   "execution_count": 3,
   "metadata": {},
   "outputs": [
    {
     "output_type": "stream",
     "name": "stdout",
     "text": [
      "0\n",
      "100\n",
      "200\n",
      "300\n",
      "Done\n"
     ]
    }
   ],
   "source": [
    "import os\n",
    "import cv2\n",
    "\n",
    "import numpy as np\n",
    "import pandas as pd\n",
    "import matplotlib.pyplot as plt\n",
    "\n",
    "def convert_images(test_split=0.8):\n",
    "\n",
    "    fnames = []\n",
    "\n",
    "    for fname in os.listdir('labelImg/raw_images'):\n",
    "        fname = fname.split('.')\n",
    "\n",
    "        if fname[1] == 'txt' and fname[0] != 'classes':\n",
    "            fnames.append(fname[0])\n",
    "\n",
    "    train_fpaths, test_fpaths = [], []\n",
    "\n",
    "    for i, fname in enumerate(fnames):\n",
    "        img_fpath = f'data/obj_processed/{fname}.jpg'\n",
    "\n",
    "        if os.path.isfile(f'raw_images/{fname}.jpg'):\n",
    "            if np.random.rand() <= test_split:\n",
    "                train_fpaths.append(img_fpath)\n",
    "            else:\n",
    "                test_fpaths.append(img_fpath)\n",
    "\n",
    "            # convert image to canny (d, d)\n",
    "            img = cv2.imread(f'labelImg/raw_images/{fname}.jpg')\n",
    "\n",
    "            d = 128\n",
    "\n",
    "            img = cv2.resize(img, (d, d), interpolation = cv2.INTER_AREA)\n",
    "            img = cv2.cvtColor(img, cv2.COLOR_BGR2GRAY)\n",
    "            img = cv2.Canny(img, d, d)\n",
    "            cv2.imwrite(f'labelImg/raw_images_processed/{fname}.jpg', img)\n",
    "        \n",
    "        if i % 100 == 0:\n",
    "            print(i)\n",
    "\n",
    "    # save train & test files\n",
    "    train_txt = str('\\n'.join(train_fpaths))\n",
    "    test_txt = str('\\n'.join(test_fpaths))\n",
    "\n",
    "    with open(f'train.txt', 'w') as f:\n",
    "        f.write(train_txt)\n",
    "        f.close()\n",
    "\n",
    "    with open(f'test.txt', 'w') as f:\n",
    "        f.write(test_txt)\n",
    "        f.close()\n",
    "\n",
    "    print('Done')\n",
    "\n",
    "\n",
    "convert_images()\n"
   ]
  }
 ]
}